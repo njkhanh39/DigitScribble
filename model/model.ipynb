{
 "cells": [
  {
   "cell_type": "markdown",
   "metadata": {},
   "source": [
    "1. Loading the data"
   ]
  },
  {
   "cell_type": "code",
   "execution_count": 77,
   "metadata": {},
   "outputs": [],
   "source": [
    "import struct\n",
    "import numpy as np\n",
    "from sklearn import svm, metrics\n",
    "from sklearn.model_selection import train_test_split\n",
    "from sklearn.decomposition import PCA\n",
    "from sklearn.metrics import accuracy_score\n",
    "import matplotlib.pyplot as plt\n",
    "%matplotlib inline"
   ]
  },
  {
   "cell_type": "code",
   "execution_count": 78,
   "metadata": {},
   "outputs": [
    {
     "name": "stdout",
     "output_type": "stream",
     "text": [
      "(70000,)\n"
     ]
    }
   ],
   "source": [
    "from scipy.io import loadmat\n",
    "\n",
    "mnist = loadmat(\"input/mnist-original.mat\")\n",
    "mnist_data = mnist[\"data\"].T\n",
    "mnist_label = mnist[\"label\"][0]\n",
    "\n",
    "print(mnist_label.shape)"
   ]
  },
  {
   "cell_type": "markdown",
   "metadata": {},
   "source": [
    "Then, let's try plotting the image"
   ]
  },
  {
   "cell_type": "code",
   "execution_count": 79,
   "metadata": {},
   "outputs": [
    {
     "data": {
      "image/png": "[encoded data removed]",
      "text/plain": [
       "<Figure size 640x480 with 1 Axes>"
      ]
     },
     "metadata": {},
     "output_type": "display_data"
    },
    {
     "name": "stdout",
     "output_type": "stream",
     "text": [
      "[  0   0   0   0   0   0   0   0   0   0   0   0   0   0   0   0   0   0\n",
      "   0   0   0   0   0   0   0   0   0   0   0   0   0   0   0   0   0   0\n",
      "   0   0   0   0   0   0   0   0   0   0   0   0   0   0   0   0   0   0\n",
      "   0   0   0   0   0   0   0   0   0   0   0   0   0   0   0   0   0   0\n",
      "   0   0   0   0   0   0   0   0   0   0   0   0   0   0   0   0   0   0\n",
      "   0   0   0   0   0   0   0   0   0   0   0   0   0   0   0   0   0   0\n",
      "   0   0   0   0   0   0   0   0   0   0   0   0   0   0   0   0   0   0\n",
      "   0   0   0   0   0   0   0   0   0   0   0   0   0   0   0   0   0   0\n",
      "   0   0   0   0   0   0   0   0   0  33 225 255 113   0   0   0   0   0\n",
      "   0   0   0   0   0   0   0   0   0   0   0   0   0   0   0   0   0   0\n",
      "   0 129 253 253 172   0   0   0   0   0   0   0   0   0   0   0   0   0\n",
      "   0   0   0   0   0   0   0   0   0   0   5 191 253 253 172   0   0   0\n",
      "   0   0   0   0   0   0   0   0   0   0   0   0   0   0   0   0   0   0\n",
      "   0   5 136 253 253 253 172   0   0   0   0   0   0   0   0   0   0   0\n",
      "   0   0   0   0   0   0   0   0   0   0   0  50 253 253 253 253 172   0\n",
      "   0   0   0   0   0   0   0   0   0   0   0   0   0   0   0   0   0   0\n",
      "   0   0   0  69 253 253 253 253 212  21   0   0   0   0   0   0   0   0\n",
      "   0   0   0   0   0   0   0   0   0   0   0   0 112 226 253 253 253 253\n",
      " 172   0   0   0   0   0   0   0   0   0   0   0   0   0   0   0   0   0\n",
      "   0   0   0   0 143 244 116 207 253 253 148   0   0   0   0   0   0   0\n",
      "   0   0   0   0   0   0   0   0   0   0   0   0   0   0  13  59   0 186\n",
      " 253 253  76   0   0   0   0   0   0   0   0   0   0   0   0   0   0   0\n",
      "   0   0   0   0   0   0   0   0   0 186 253 253 172   0   0   0   0   0\n",
      "   0   0   0   0   0   0   0   0   0   0   0   0   0   0   0   0   0   0\n",
      "   0 186 253 253  79   0   0   0   0   0   0   0   0   0   0   0   0   0\n",
      "   0   0   0   0   0   0   0   0   0   0   0 186 253 253 146   0   0   0\n",
      "   0   0   0   0   0   0   0   0   0   0   0   0   0   0   0   0   0   0\n",
      "   0   0   0 146 253 253 172   0   0   0   0   0   0   0   0   0   0   0\n",
      "   0   0   0   0   0   0   0   0   0   0   0   0   0  63 253 253 172   0\n",
      "   0   0   0   0   0   0   0   0   0   0   0   0   0   0   0   0   0   0\n",
      "   0   0   0   0   0 168 253 253 172   0   0   0   0   0   0   0   0   0\n",
      "   0   0   0   0   0   0   0   0   0   0   0   0   0   0   0 186 253 253\n",
      " 172   0   0   0   0   0   0   0   0   0   0   0   0   0   0   0   0   0\n",
      "   0   0   0   0   0   0   0 186 253 253 172   0   0   0   0   0   0   0\n",
      "   0   0   0   0   0   0   0   0   0   0   0   0   0   0   0   0   0 186\n",
      " 253 253 172   0   0   0   0   0   0   0   0   0   0   0   0   0   0   0\n",
      "   0   0   0   0   0   0   0   0   0 186 253 253 115   0   0   0   0   0\n",
      "   0   0   0   0   0   0   0   0   0   0   0   0   0   0   0   0   0   0\n",
      "   0  35 223 217  25   0   0   0   0   0   0   0   0   0   0   0   0   0\n",
      "   0   0   0   0   0   0   0   0   0   0   0   0   0   0   0   0   0   0\n",
      "   0   0   0   0   0   0   0   0   0   0   0   0   0   0   0   0   0   0\n",
      "   0   0   0   0   0   0   0   0   0   0   0   0   0   0   0   0   0   0\n",
      "   0   0   0   0   0   0   0   0   0   0   0   0   0   0   0   0   0   0\n",
      "   0   0   0   0   0   0   0   0   0   0]\n"
     ]
    }
   ],
   "source": [
    "import matplotlib.pyplot as plt\n",
    "\n",
    "# Reshape the first row into a 28x28 image\n",
    "first_image = mnist_data[11000].reshape(28, 28)\n",
    "\n",
    "# Plot the image\n",
    "plt.imshow(first_image, cmap='gray')\n",
    "plt.title(f\"Label: {mnist_label[11000]}\")\n",
    "plt.axis('off')\n",
    "plt.show()\n",
    "\n",
    "print(mnist_data[11000])"
   ]
  },
  {
   "cell_type": "markdown",
   "metadata": {},
   "source": [
    "Stratified Sampling:"
   ]
  },
  {
   "cell_type": "code",
   "execution_count": 80,
   "metadata": {},
   "outputs": [
    {
     "name": "stdout",
     "output_type": "stream",
     "text": [
      "Label distribution in training set: [5917 6752 5991 6121 5849 5411 5894 6251 5850 5964]\n",
      "Label distribution in testing set: [ 986 1125  999 1020  975  902  982 1042  975  994]\n"
     ]
    }
   ],
   "source": [
    "X_train, X_test, Y_train, Y_test = train_test_split(\n",
    "    mnist_data, mnist_label,\n",
    "    test_size = 10000/70000,\n",
    "    stratify = mnist_label,\n",
    "    random_state = 42 \n",
    ")\n",
    "\n",
    "print(\"Label distribution in training set:\", np.bincount(Y_train.astype(int)))\n",
    "print(\"Label distribution in testing set:\", np.bincount(Y_test.astype(int)))"
   ]
  },
  {
   "cell_type": "markdown",
   "metadata": {},
   "source": [
    "That's too much for an SVM, let's reduce the size:"
   ]
  },
  {
   "cell_type": "code",
   "execution_count": 119,
   "metadata": {},
   "outputs": [],
   "source": [
    "\n",
    "# Apply PCA for dimensionality reduction\n",
    "pca = PCA(n_components=50)\n",
    "X_train_pca = pca.fit_transform(X_train)\n",
    "X_test_pca = pca.transform(X_test)\n",
    "\n",
    "X_train_pca = X_train_pca/255.0\n",
    "X_test_pca = X_test_pca/255.0"
   ]
  },
  {
   "cell_type": "code",
   "execution_count": 120,
   "metadata": {},
   "outputs": [],
   "source": [
    "\n",
    "\n",
    "svc = svm.SVC(C = 5, gamma = 0.05).fit(X_train_pca, Y_train)\n",
    "\n"
   ]
  },
  {
   "cell_type": "code",
   "execution_count": 121,
   "metadata": {},
   "outputs": [
    {
     "name": "stdout",
     "output_type": "stream",
     "text": [
      "Accuracy: 98.78%\n"
     ]
    }
   ],
   "source": [
    "predictions = svc.predict(X_test_pca)\n",
    "accuracy = accuracy_score(Y_test, predictions)\n",
    "print(f\"Accuracy: {accuracy * 100:.2f}%\")\n"
   ]
  },
  {
   "cell_type": "code",
   "execution_count": 150,
   "metadata": {},
   "outputs": [
    {
     "data": {
      "image/png": "[encoded data removed]",
      "text/plain": [
       "<Figure size 640x480 with 1 Axes>"
      ]
     },
     "metadata": {},
     "output_type": "display_data"
    },
    {
     "name": "stdout",
     "output_type": "stream",
     "text": [
      "Predicted Label:  7.0\n"
     ]
    }
   ],
   "source": [
    "\n",
    "idx = np.where((predictions == 7) & (Y_test == 7))[0]\n",
    "\n",
    "num = 3\n",
    "\n",
    "# Reshape the first row into a 28x28 image\n",
    "first_image = X_test[idx[num]].reshape(28, 28)\n",
    "\n",
    "# Plot the image\n",
    "plt.imshow(first_image, cmap='gray')\n",
    "plt.title(f\"True Label: {Y_test[idx[num]]}\")\n",
    "plt.axis('off')\n",
    "plt.show()\n",
    "\n",
    "print(\"Predicted Label: \", predictions[idx[num]])\n",
    "\n",
    "plt.show()"
   ]
  },
  {
   "cell_type": "markdown",
   "metadata": {},
   "source": [
    "Now, let's save version 1 of our model (98.78% correct on 10.000 pics)"
   ]
  },
  {
   "cell_type": "code",
   "execution_count": 126,
   "metadata": {},
   "outputs": [
    {
     "data": {
      "text/plain": [
       "['svm_model.joblib']"
      ]
     },
     "execution_count": 126,
     "metadata": {},
     "output_type": "execute_result"
    }
   ],
   "source": [
    "from joblib import dump\n",
    "\n",
    "# Save both PCA and SVM to a single file\n",
    "dump({'pca': pca, 'svm': svm}, 'pca_svm_pipeline.joblib')\n"
   ]
  },
  {
   "cell_type": "code",
   "execution_count": 177,
   "metadata": {},
   "outputs": [
    {
     "data": {
      "image/png": "[encoded data removed]",
      "text/plain": [
       "<Figure size 640x480 with 1 Axes>"
      ]
     },
     "metadata": {},
     "output_type": "display_data"
    },
    {
     "name": "stdout",
     "output_type": "stream",
     "text": [
      "Predict:  [2.]\n"
     ]
    }
   ],
   "source": [
    "from PIL import Image\n",
    "\n",
    "def half_processed_image(image_path):\n",
    "    image = Image.open(image_path)\n",
    "    image = image.resize((28, 28))\n",
    "    image = image.convert('L')  # 'L' mode is 8-bit pixels, grayscale\n",
    "    image_array = np.array(image)\n",
    "    input_data = image_array.flatten()\n",
    "\n",
    "    return input_data\n",
    "\n",
    "def preprocess_image(image_path, pca):\n",
    "    # Step 1: Load the image\n",
    "    image = Image.open(image_path)\n",
    "\n",
    "    # Step 2: Resize to 28x28 (if not already)\n",
    "    image = image.resize((28, 28))\n",
    "\n",
    "    # Step 3: Convert to grayscale\n",
    "    image = image.convert('L')  # 'L' mode is 8-bit pixels, grayscale\n",
    "\n",
    "    # Step 4: Invert colors (if needed)\n",
    "    # Ensure the digit is white (255) and background is black (0)\n",
    "\n",
    "    image_array = np.array(image) # Scale to range [0, 1]\n",
    "\n",
    "\n",
    "    # Step 5: Flatten the image into a 1D array\n",
    "    input_data = image_array.flatten()\n",
    "\n",
    "    input_data = input_data.reshape(1, -1)\n",
    "\n",
    "    input_data = pca.transform(input_data)/255.0\n",
    "\n",
    "    return input_data\n",
    "\n",
    "# Example usage\n",
    "image_path = \"images/pic1.png\"  # Replace with your image path\n",
    "input_data = preprocess_image(image_path, pca = pca)\n",
    "\n",
    "# Reshape the first row into a 28x28 image\n",
    "first_image = half_processed_image(\"images/pic1.png\").reshape(28, 28)\n",
    "\n",
    "# Plot the image\n",
    "plt.imshow(first_image, cmap='gray')\n",
    "plt.axis('off')\n",
    "plt.show()\n",
    "\n",
    "print(\"Predict: \", svc.predict(input_data))\n",
    "\n"
   ]
  }
 ],
 "metadata": {
  "kernelspec": {
   "display_name": "Python 3",
   "language": "python",
   "name": "python3"
  },
  "language_info": {
   "codemirror_mode": {
    "name": "ipython",
    "version": 3
   },
   "file_extension": ".py",
   "mimetype": "text/x-python",
   "name": "python",
   "nbconvert_exporter": "python",
   "pygments_lexer": "ipython3",
   "version": "3.12.3"
  }
 },
 "nbformat": 4,
 "nbformat_minor": 2
}
